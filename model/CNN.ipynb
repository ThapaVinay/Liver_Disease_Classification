{
  "cells": [
    {
      "cell_type": "markdown",
      "metadata": {
        "id": "BQLlY6iKe9k3"
      },
      "source": [
        "**Convolutional Neural Network**"
      ]
    },
    {
      "cell_type": "code",
      "execution_count": 1,
      "metadata": {
        "id": "bnuejLy6ezBN"
      },
      "outputs": [
        {
          "ename": "ModuleNotFoundError",
          "evalue": "No module named 'tensorflow'",
          "output_type": "error",
          "traceback": [
            "\u001b[1;31m---------------------------------------------------------------------------\u001b[0m",
            "\u001b[1;31mModuleNotFoundError\u001b[0m                       Traceback (most recent call last)",
            "Cell \u001b[1;32mIn[1], line 3\u001b[0m\n\u001b[0;32m      1\u001b[0m \u001b[38;5;28;01mimport\u001b[39;00m \u001b[38;5;21;01mmatplotlib\u001b[39;00m\u001b[38;5;21;01m.\u001b[39;00m\u001b[38;5;21;01mpyplot\u001b[39;00m \u001b[38;5;28;01mas\u001b[39;00m \u001b[38;5;21;01mplt\u001b[39;00m\n\u001b[0;32m      2\u001b[0m \u001b[38;5;28;01mimport\u001b[39;00m \u001b[38;5;21;01mnumpy\u001b[39;00m \u001b[38;5;28;01mas\u001b[39;00m \u001b[38;5;21;01mnp\u001b[39;00m\n\u001b[1;32m----> 3\u001b[0m \u001b[38;5;28;01mimport\u001b[39;00m \u001b[38;5;21;01mtensorflow\u001b[39;00m \u001b[38;5;28;01mas\u001b[39;00m \u001b[38;5;21;01mtf\u001b[39;00m\n\u001b[0;32m      4\u001b[0m \u001b[38;5;28;01mfrom\u001b[39;00m \u001b[38;5;21;01mtensorflow\u001b[39;00m\u001b[38;5;21;01m.\u001b[39;00m\u001b[38;5;21;01mkeras\u001b[39;00m \u001b[38;5;28;01mimport\u001b[39;00m datasets, layers, models\n",
            "\u001b[1;31mModuleNotFoundError\u001b[0m: No module named 'tensorflow'"
          ]
        }
      ],
      "source": [
        "import matplotlib.pyplot as plt\n",
        "import numpy as np\n",
        "import tensorflow as tf\n",
        "from tensorflow.keras import datasets, layers, models\n"
      ]
    },
    {
      "cell_type": "code",
      "execution_count": null,
      "metadata": {
        "colab": {
          "base_uri": "https://localhost:8080/"
        },
        "id": "lb_M04wwe8qp",
        "outputId": "494e1c63-5eb5-488a-acbc-a0575740add5"
      },
      "outputs": [
        {
          "name": "stdout",
          "output_type": "stream",
          "text": [
            "Downloading data from https://www.cs.toronto.edu/~kriz/cifar-10-python.tar.gz\n",
            "170498071/170498071 [==============================] - 4s 0us/step\n"
          ]
        },
        {
          "data": {
            "text/plain": [
              "(50000, 32, 32, 3)"
            ]
          },
          "execution_count": 3,
          "metadata": {},
          "output_type": "execute_result"
        }
      ],
      "source": [
        "(X_train, y_train) , (X_test, y_test) = datasets.cifar10.load_data()\n",
        "X_train.shape"
      ]
    },
    {
      "cell_type": "code",
      "execution_count": null,
      "metadata": {
        "colab": {
          "base_uri": "https://localhost:8080/"
        },
        "id": "aaLVeW2bJL8C",
        "outputId": "09cf3f5d-e8de-4bac-c35e-d7fb29cb8899"
      },
      "outputs": [
        {
          "data": {
            "text/plain": [
              "array([[6],\n",
              "       [9],\n",
              "       [9],\n",
              "       [4],\n",
              "       [1]], dtype=uint8)"
            ]
          },
          "execution_count": 4,
          "metadata": {},
          "output_type": "execute_result"
        }
      ],
      "source": [
        "y_train[:5]   # prints first five elements"
      ]
    },
    {
      "cell_type": "code",
      "execution_count": null,
      "metadata": {
        "id": "z1lQAuUHJWNp"
      },
      "outputs": [],
      "source": [
        "y_train = y_train.reshape(-1,)     # -1 to keep the same dimension and other one zero\n",
        "y_train\n",
        "\n",
        "label_names = ['airplane', 'automobile', 'bird', 'cat', 'deer', 'dog', 'frog', 'horse', 'ship', 'truck']"
      ]
    },
    {
      "cell_type": "markdown",
      "metadata": {
        "id": "kgQcHlzIIK-F"
      },
      "source": [
        "The imshow function of matplotlib displays the matrix as an image."
      ]
    },
    {
      "cell_type": "code",
      "execution_count": null,
      "metadata": {
        "id": "fUYBZfELHh8Q"
      },
      "outputs": [],
      "source": [
        "def plot_sample(X_train , y_train , index):\n",
        "  plt.figure(figsize = (15,2))\n",
        "  plt.imshow(X_train[index])\n",
        "  plt.xlabel(label_names[y_train[index]])"
      ]
    },
    {
      "cell_type": "code",
      "execution_count": null,
      "metadata": {
        "colab": {
          "base_uri": "https://localhost:8080/",
          "height": 173
        },
        "id": "OMp37F86HxTj",
        "outputId": "52593b52-977d-4a04-bcdd-a89c0714fbd1"
      },
      "outputs": [
        {
          "data": {
            "image/png": "[encoded data removed]",
            "text/plain": [
              "<Figure size 1080x144 with 1 Axes>"
            ]
          },
          "metadata": {},
          "output_type": "display_data"
        }
      ],
      "source": [
        "plot_sample(X_train, y_train, 3)"
      ]
    },
    {
      "cell_type": "code",
      "execution_count": null,
      "metadata": {
        "colab": {
          "base_uri": "https://localhost:8080/"
        },
        "id": "BTqATWt9Kt1f",
        "outputId": "bed2e6fc-4106-4cee-c74e-5aa5d207842d"
      },
      "outputs": [
        {
          "data": {
            "text/plain": [
              "array([[[[0.23137255, 0.24313725, 0.24705882],\n",
              "         [0.16862745, 0.18039216, 0.17647059],\n",
              "         [0.19607843, 0.18823529, 0.16862745],\n",
              "         ...,\n",
              "         [0.61960784, 0.51764706, 0.42352941],\n",
              "         [0.59607843, 0.49019608, 0.4       ],\n",
              "         [0.58039216, 0.48627451, 0.40392157]],\n",
              "\n",
              "        [[0.0627451 , 0.07843137, 0.07843137],\n",
              "         [0.        , 0.        , 0.        ],\n",
              "         [0.07058824, 0.03137255, 0.        ],\n",
              "         ...,\n",
              "         [0.48235294, 0.34509804, 0.21568627],\n",
              "         [0.46666667, 0.3254902 , 0.19607843],\n",
              "         [0.47843137, 0.34117647, 0.22352941]],\n",
              "\n",
              "        [[0.09803922, 0.09411765, 0.08235294],\n",
              "         [0.0627451 , 0.02745098, 0.        ],\n",
              "         [0.19215686, 0.10588235, 0.03137255],\n",
              "         ...,\n",
              "         [0.4627451 , 0.32941176, 0.19607843],\n",
              "         [0.47058824, 0.32941176, 0.19607843],\n",
              "         [0.42745098, 0.28627451, 0.16470588]],\n",
              "\n",
              "        ...,\n",
              "\n",
              "        [[0.81568627, 0.66666667, 0.37647059],\n",
              "         [0.78823529, 0.6       , 0.13333333],\n",
              "         [0.77647059, 0.63137255, 0.10196078],\n",
              "         ...,\n",
              "         [0.62745098, 0.52156863, 0.2745098 ],\n",
              "         [0.21960784, 0.12156863, 0.02745098],\n",
              "         [0.20784314, 0.13333333, 0.07843137]],\n",
              "\n",
              "        [[0.70588235, 0.54509804, 0.37647059],\n",
              "         [0.67843137, 0.48235294, 0.16470588],\n",
              "         [0.72941176, 0.56470588, 0.11764706],\n",
              "         ...,\n",
              "         [0.72156863, 0.58039216, 0.36862745],\n",
              "         [0.38039216, 0.24313725, 0.13333333],\n",
              "         [0.3254902 , 0.20784314, 0.13333333]],\n",
              "\n",
              "        [[0.69411765, 0.56470588, 0.45490196],\n",
              "         [0.65882353, 0.50588235, 0.36862745],\n",
              "         [0.70196078, 0.55686275, 0.34117647],\n",
              "         ...,\n",
              "         [0.84705882, 0.72156863, 0.54901961],\n",
              "         [0.59215686, 0.4627451 , 0.32941176],\n",
              "         [0.48235294, 0.36078431, 0.28235294]]],\n",
              "\n",
              "\n",
              "       [[[0.60392157, 0.69411765, 0.73333333],\n",
              "         [0.49411765, 0.5372549 , 0.53333333],\n",
              "         [0.41176471, 0.40784314, 0.37254902],\n",
              "         ...,\n",
              "         [0.35686275, 0.37254902, 0.27843137],\n",
              "         [0.34117647, 0.35294118, 0.27843137],\n",
              "         [0.30980392, 0.31764706, 0.2745098 ]],\n",
              "\n",
              "        [[0.54901961, 0.62745098, 0.6627451 ],\n",
              "         [0.56862745, 0.6       , 0.60392157],\n",
              "         [0.49019608, 0.49019608, 0.4627451 ],\n",
              "         ...,\n",
              "         [0.37647059, 0.38823529, 0.30588235],\n",
              "         [0.30196078, 0.31372549, 0.24313725],\n",
              "         [0.27843137, 0.28627451, 0.23921569]],\n",
              "\n",
              "        [[0.54901961, 0.60784314, 0.64313725],\n",
              "         [0.54509804, 0.57254902, 0.58431373],\n",
              "         [0.45098039, 0.45098039, 0.43921569],\n",
              "         ...,\n",
              "         [0.30980392, 0.32156863, 0.25098039],\n",
              "         [0.26666667, 0.2745098 , 0.21568627],\n",
              "         [0.2627451 , 0.27058824, 0.21568627]],\n",
              "\n",
              "        ...,\n",
              "\n",
              "        [[0.68627451, 0.65490196, 0.65098039],\n",
              "         [0.61176471, 0.60392157, 0.62745098],\n",
              "         [0.60392157, 0.62745098, 0.66666667],\n",
              "         ...,\n",
              "         [0.16470588, 0.13333333, 0.14117647],\n",
              "         [0.23921569, 0.20784314, 0.22352941],\n",
              "         [0.36470588, 0.3254902 , 0.35686275]],\n",
              "\n",
              "        [[0.64705882, 0.60392157, 0.50196078],\n",
              "         [0.61176471, 0.59607843, 0.50980392],\n",
              "         [0.62352941, 0.63137255, 0.55686275],\n",
              "         ...,\n",
              "         [0.40392157, 0.36470588, 0.37647059],\n",
              "         [0.48235294, 0.44705882, 0.47058824],\n",
              "         [0.51372549, 0.4745098 , 0.51372549]],\n",
              "\n",
              "        [[0.63921569, 0.58039216, 0.47058824],\n",
              "         [0.61960784, 0.58039216, 0.47843137],\n",
              "         [0.63921569, 0.61176471, 0.52156863],\n",
              "         ...,\n",
              "         [0.56078431, 0.52156863, 0.54509804],\n",
              "         [0.56078431, 0.5254902 , 0.55686275],\n",
              "         [0.56078431, 0.52156863, 0.56470588]]],\n",
              "\n",
              "\n",
              "       [[[1.        , 1.        , 1.        ],\n",
              "         [0.99215686, 0.99215686, 0.99215686],\n",
              "         [0.99215686, 0.99215686, 0.99215686],\n",
              "         ...,\n",
              "         [0.99215686, 0.99215686, 0.99215686],\n",
              "         [0.99215686, 0.99215686, 0.99215686],\n",
              "         [0.99215686, 0.99215686, 0.99215686]],\n",
              "\n",
              "        [[1.        , 1.        , 1.        ],\n",
              "         [1.        , 1.        , 1.        ],\n",
              "         [1.        , 1.        , 1.        ],\n",
              "         ...,\n",
              "         [1.        , 1.        , 1.        ],\n",
              "         [1.        , 1.        , 1.        ],\n",
              "         [1.        , 1.        , 1.        ]],\n",
              "\n",
              "        [[1.        , 1.        , 1.        ],\n",
              "         [0.99607843, 0.99607843, 0.99607843],\n",
              "         [0.99607843, 0.99607843, 0.99607843],\n",
              "         ...,\n",
              "         [0.99607843, 0.99607843, 0.99607843],\n",
              "         [0.99607843, 0.99607843, 0.99607843],\n",
              "         [0.99607843, 0.99607843, 0.99607843]],\n",
              "\n",
              "        ...,\n",
              "\n",
              "        [[0.44313725, 0.47058824, 0.43921569],\n",
              "         [0.43529412, 0.4627451 , 0.43529412],\n",
              "         [0.41176471, 0.43921569, 0.41568627],\n",
              "         ...,\n",
              "         [0.28235294, 0.31764706, 0.31372549],\n",
              "         [0.28235294, 0.31372549, 0.30980392],\n",
              "         [0.28235294, 0.31372549, 0.30980392]],\n",
              "\n",
              "        [[0.43529412, 0.4627451 , 0.43137255],\n",
              "         [0.40784314, 0.43529412, 0.40784314],\n",
              "         [0.38823529, 0.41568627, 0.38431373],\n",
              "         ...,\n",
              "         [0.26666667, 0.29411765, 0.28627451],\n",
              "         [0.2745098 , 0.29803922, 0.29411765],\n",
              "         [0.30588235, 0.32941176, 0.32156863]],\n",
              "\n",
              "        [[0.41568627, 0.44313725, 0.41176471],\n",
              "         [0.38823529, 0.41568627, 0.38431373],\n",
              "         [0.37254902, 0.4       , 0.36862745],\n",
              "         ...,\n",
              "         [0.30588235, 0.33333333, 0.3254902 ],\n",
              "         [0.30980392, 0.33333333, 0.3254902 ],\n",
              "         [0.31372549, 0.3372549 , 0.32941176]]],\n",
              "\n",
              "\n",
              "       [[[0.10980392, 0.09803922, 0.03921569],\n",
              "         [0.14509804, 0.13333333, 0.0745098 ],\n",
              "         [0.14901961, 0.1372549 , 0.07843137],\n",
              "         ...,\n",
              "         [0.29803922, 0.2627451 , 0.15294118],\n",
              "         [0.31764706, 0.28235294, 0.16862745],\n",
              "         [0.33333333, 0.29803922, 0.18431373]],\n",
              "\n",
              "        [[0.12941176, 0.10980392, 0.05098039],\n",
              "         [0.13333333, 0.11764706, 0.05490196],\n",
              "         [0.1254902 , 0.10588235, 0.04705882],\n",
              "         ...,\n",
              "         [0.37254902, 0.32156863, 0.21568627],\n",
              "         [0.37647059, 0.32156863, 0.21960784],\n",
              "         [0.33333333, 0.28235294, 0.17647059]],\n",
              "\n",
              "        [[0.15294118, 0.1254902 , 0.05882353],\n",
              "         [0.15686275, 0.12941176, 0.06666667],\n",
              "         [0.22352941, 0.19607843, 0.12941176],\n",
              "         ...,\n",
              "         [0.36470588, 0.29803922, 0.20392157],\n",
              "         [0.41960784, 0.34901961, 0.25882353],\n",
              "         [0.37254902, 0.30196078, 0.21176471]],\n",
              "\n",
              "        ...,\n",
              "\n",
              "        [[0.3254902 , 0.28627451, 0.20392157],\n",
              "         [0.34117647, 0.30196078, 0.21960784],\n",
              "         [0.32941176, 0.29019608, 0.20392157],\n",
              "         ...,\n",
              "         [0.38823529, 0.36470588, 0.2745098 ],\n",
              "         [0.35294118, 0.32941176, 0.23921569],\n",
              "         [0.31764706, 0.29411765, 0.20392157]],\n",
              "\n",
              "        [[0.34509804, 0.28235294, 0.2       ],\n",
              "         [0.35294118, 0.29019608, 0.20392157],\n",
              "         [0.36470588, 0.30196078, 0.21960784],\n",
              "         ...,\n",
              "         [0.31372549, 0.29019608, 0.20784314],\n",
              "         [0.29803922, 0.2745098 , 0.19215686],\n",
              "         [0.32156863, 0.29803922, 0.21568627]],\n",
              "\n",
              "        [[0.38039216, 0.30588235, 0.21960784],\n",
              "         [0.36862745, 0.29411765, 0.20784314],\n",
              "         [0.36470588, 0.29411765, 0.20784314],\n",
              "         ...,\n",
              "         [0.21176471, 0.18431373, 0.10980392],\n",
              "         [0.24705882, 0.21960784, 0.14509804],\n",
              "         [0.28235294, 0.25490196, 0.18039216]]],\n",
              "\n",
              "\n",
              "       [[[0.66666667, 0.70588235, 0.77647059],\n",
              "         [0.65882353, 0.69803922, 0.76862745],\n",
              "         [0.69411765, 0.7254902 , 0.79607843],\n",
              "         ...,\n",
              "         [0.63529412, 0.70196078, 0.84313725],\n",
              "         [0.61960784, 0.69803922, 0.83921569],\n",
              "         [0.61568627, 0.69411765, 0.83137255]],\n",
              "\n",
              "        [[0.65882353, 0.70980392, 0.77647059],\n",
              "         [0.6745098 , 0.7254902 , 0.78823529],\n",
              "         [0.67058824, 0.71764706, 0.78431373],\n",
              "         ...,\n",
              "         [0.62352941, 0.69411765, 0.83137255],\n",
              "         [0.61176471, 0.69019608, 0.82745098],\n",
              "         [0.60392157, 0.68235294, 0.81960784]],\n",
              "\n",
              "        [[0.60392157, 0.66666667, 0.72941176],\n",
              "         [0.58431373, 0.64705882, 0.70980392],\n",
              "         [0.50588235, 0.56470588, 0.63529412],\n",
              "         ...,\n",
              "         [0.63137255, 0.69803922, 0.83921569],\n",
              "         [0.61568627, 0.69411765, 0.83137255],\n",
              "         [0.60392157, 0.68235294, 0.81960784]],\n",
              "\n",
              "        ...,\n",
              "\n",
              "        [[0.29019608, 0.32941176, 0.31372549],\n",
              "         [0.29803922, 0.33333333, 0.31764706],\n",
              "         [0.30588235, 0.33333333, 0.32156863],\n",
              "         ...,\n",
              "         [0.27843137, 0.29411765, 0.30588235],\n",
              "         [0.26666667, 0.28235294, 0.29411765],\n",
              "         [0.23921569, 0.25490196, 0.26666667]],\n",
              "\n",
              "        [[0.26666667, 0.29803922, 0.30196078],\n",
              "         [0.27058824, 0.30196078, 0.30588235],\n",
              "         [0.28235294, 0.30980392, 0.30588235],\n",
              "         ...,\n",
              "         [0.29803922, 0.31372549, 0.3254902 ],\n",
              "         [0.27843137, 0.29411765, 0.30588235],\n",
              "         [0.27843137, 0.29411765, 0.30588235]],\n",
              "\n",
              "        [[0.2627451 , 0.29411765, 0.30588235],\n",
              "         [0.26666667, 0.29803922, 0.30980392],\n",
              "         [0.27058824, 0.29411765, 0.29803922],\n",
              "         ...,\n",
              "         [0.29411765, 0.30980392, 0.32156863],\n",
              "         [0.27843137, 0.29411765, 0.30588235],\n",
              "         [0.28627451, 0.30196078, 0.31372549]]]])"
            ]
          },
          "execution_count": 8,
          "metadata": {},
          "output_type": "execute_result"
        }
      ],
      "source": [
        "X_train = X_train / 255     # to normalise the data {mean: 0 & SD: 1}\n",
        "X_test = X_test / 255\n",
        "X_train[:5]"
      ]
    },
    {
      "cell_type": "code",
      "execution_count": null,
      "metadata": {
        "colab": {
          "background_save": true,
          "base_uri": "https://localhost:8080/"
        },
        "id": "qEqNWmbuLgXb",
        "outputId": "a24e4cc2-6cc4-4087-cc69-0a20239e6cb9"
      },
      "outputs": [
        {
          "name": "stdout",
          "output_type": "stream",
          "text": [
            "Epoch 1/5\n",
            "1563/1563 [==============================] - 114s 72ms/step - loss: 1.3696 - accuracy: 0.5115\n",
            "Epoch 2/5\n",
            "1563/1563 [==============================] - 112s 72ms/step - loss: 0.9804 - accuracy: 0.6555\n",
            "Epoch 3/5\n",
            "1563/1563 [==============================] - 114s 73ms/step - loss: 0.7946 - accuracy: 0.7227\n",
            "Epoch 4/5\n",
            "1563/1563 [==============================] - 113s 73ms/step - loss: 0.6369 - accuracy: 0.7796\n",
            "Epoch 5/5\n",
            "1563/1563 [==============================] - 115s 74ms/step - loss: 0.4843 - accuracy: 0.8319\n"
          ]
        },
        {
          "data": {
            "text/plain": [
              "<keras.callbacks.History at 0x7ff2ae16e520>"
            ]
          },
          "execution_count": 9,
          "metadata": {},
          "output_type": "execute_result"
        }
      ],
      "source": [
        "cnn = models.Sequential([\n",
        "\n",
        "    # convolution and max pooling\n",
        "    layers.Conv2D(filters = 32, kernel_size = (3,3), activation = 'relu' , input_shape = (32,32,3)),\n",
        "    layers.MaxPooling2D((2,2)),\n",
        "\n",
        "\n",
        "    layers.Conv2D (filters = 64, kernel_size = (3,3), activation = 'relu' , input_shape = (32,32,3)),\n",
        "    layers.MaxPooling2D((2,2)),\n",
        "\n",
        "    # dense layer\n",
        "    layers.Flatten(input_shape = (32,32,3)),\n",
        "    # layers.Dense(3000, activation = 'relu'),\n",
        "    layers.Dense(1000, activation = 'relu'),\n",
        "    layers.Dense(10, activation = 'softmax')     # normalises the inputs so that the sum of outputs is 1.\n",
        " ])\n",
        "\n",
        "cnn.compile (\n",
        "    optimizer = 'adam',   # 'SGD'\n",
        "    loss = 'sparse_categorical_crossentropy',\n",
        "    metrics = ['accuracy']\n",
        ")\n",
        "\n",
        "cnn.fit(X_train, y_train, epochs = 5)"
      ]
    },
    {
      "cell_type": "code",
      "execution_count": null,
      "metadata": {
        "colab": {
          "background_save": true
        },
        "id": "0u5hGQApP2Fn",
        "outputId": "8c949098-f66d-46b6-893e-c3321f3f9484"
      },
      "outputs": [
        {
          "name": "stdout",
          "output_type": "stream",
          "text": [
            "313/313 [==============================] - 5s 16ms/step - loss: 0.9348 - accuracy: 0.7087\n"
          ]
        },
        {
          "data": {
            "text/plain": [
              "[0.934775173664093, 0.7087000012397766]"
            ]
          },
          "execution_count": 10,
          "metadata": {},
          "output_type": "execute_result"
        }
      ],
      "source": [
        "cnn.evaluate(X_test, y_test)"
      ]
    },
    {
      "cell_type": "code",
      "execution_count": null,
      "metadata": {
        "colab": {
          "background_save": true
        },
        "id": "zG8-e4MV-7N_",
        "outputId": "d6943ee9-8eb1-4618-9ed1-b6a1079f7a49"
      },
      "outputs": [
        {
          "name": "stdout",
          "output_type": "stream",
          "text": [
            "313/313 [==============================] - 6s 19ms/step\n"
          ]
        },
        {
          "data": {
            "text/plain": [
              "array([3, 8, 8, ..., 5, 1, 7], dtype=uint8)"
            ]
          },
          "execution_count": 11,
          "metadata": {},
          "output_type": "execute_result"
        }
      ],
      "source": [
        "y_pred = cnn.predict(X_test)\n",
        "y_classes = [np.argmax(element) for element in y_pred]\n",
        "y_test = y_test.reshape(-1,)\n",
        "y_test"
      ]
    },
    {
      "cell_type": "code",
      "execution_count": null,
      "metadata": {
        "colab": {
          "background_save": true
        },
        "id": "JEw0dLfP_D7E",
        "outputId": "ffdd9f92-6a52-444a-f5f0-22102e11ed3b"
      },
      "outputs": [
        {
          "data": {
            "application/vnd.google.colaboratory.intrinsic+json": {
              "type": "string"
            },
            "text/plain": [
              "'deer'"
            ]
          },
          "execution_count": 12,
          "metadata": {},
          "output_type": "execute_result"
        },
        {
          "data": {
            "image/png": "[encoded data removed]",
            "text/plain": [
              "<Figure size 1080x144 with 1 Axes>"
            ]
          },
          "metadata": {},
          "output_type": "display_data"
        }
      ],
      "source": [
        "plot_sample(X_test, y_test, 4)\n",
        "label_names[y_classes[4]]"
      ]
    },
    {
      "cell_type": "code",
      "execution_count": null,
      "metadata": {
        "colab": {
          "background_save": true
        },
        "id": "9AVEWf4BAjv8",
        "outputId": "1b347719-7938-44c1-923f-b9295b00d047"
      },
      "outputs": [
        {
          "name": "stdout",
          "output_type": "stream",
          "text": [
            "Classification report : \n",
            "               precision    recall  f1-score   support\n",
            "\n",
            "           0       0.75      0.76      0.75      1000\n",
            "           1       0.91      0.70      0.79      1000\n",
            "           2       0.70      0.50      0.58      1000\n",
            "           3       0.51      0.54      0.52      1000\n",
            "           4       0.64      0.73      0.68      1000\n",
            "           5       0.57      0.65      0.61      1000\n",
            "           6       0.76      0.82      0.79      1000\n",
            "           7       0.81      0.72      0.77      1000\n",
            "           8       0.84      0.79      0.81      1000\n",
            "           9       0.70      0.88      0.78      1000\n",
            "\n",
            "    accuracy                           0.71     10000\n",
            "   macro avg       0.72      0.71      0.71     10000\n",
            "weighted avg       0.72      0.71      0.71     10000\n",
            "\n"
          ]
        }
      ],
      "source": [
        "from sklearn.metrics import classification_report\n",
        "print(\"Classification report : \\n\" ,classification_report(y_test, y_classes))\n"
      ]
    },
    {
      "cell_type": "markdown",
      "metadata": {
        "id": "nmniYG3EEBho"
      },
      "source": [
        "**Predicting for a completely different image**\n"
      ]
    },
    {
      "cell_type": "code",
      "execution_count": null,
      "metadata": {
        "colab": {
          "background_save": true
        },
        "id": "dyYPJ6RGD7M0",
        "outputId": "7becd022-d541-4401-e7f2-5dc2b6f205af"
      },
      "outputs": [
        {
          "data": {
            "text/plain": [
              "<matplotlib.image.AxesImage at 0x7ff24dbb6d00>"
            ]
          },
          "execution_count": 14,
          "metadata": {},
          "output_type": "execute_result"
        },
        {
          "data": {
            "image/png": "[encoded data removed]",
            "text/plain": [
              "<Figure size 1080x144 with 1 Axes>"
            ]
          },
          "metadata": {},
          "output_type": "display_data"
        }
      ],
      "source": [
        "from PIL import Image\n",
        "img_path = '/content/cat1.jpeg'\n",
        "img = Image.open(img_path)\n",
        "img = img.resize((32,32))\n",
        "plt.figure(figsize = (15,2))\n",
        "plt.imshow(img)"
      ]
    },
    {
      "cell_type": "code",
      "execution_count": null,
      "metadata": {
        "colab": {
          "background_save": true
        },
        "id": "8OrZXCYqGaNH",
        "outputId": "546417c9-8098-4a26-e70b-58ded8ef4434"
      },
      "outputs": [
        {
          "data": {
            "text/plain": [
              "(1, 32, 32, 3)"
            ]
          },
          "execution_count": 15,
          "metadata": {},
          "output_type": "execute_result"
        }
      ],
      "source": [
        "i = np.array(img)     # convert image into array\n",
        "i = i/255            # normalise the image\n",
        "i = np.expand_dims(i, axis=0)    # add extra dimension which contains batch size\n",
        "i.shape"
      ]
    },
    {
      "cell_type": "code",
      "execution_count": null,
      "metadata": {
        "colab": {
          "background_save": true
        },
        "id": "Mkubjzz7KtMP",
        "outputId": "f7a49b92-be55-4fd8-827f-59be271d6c16"
      },
      "outputs": [
        {
          "name": "stdout",
          "output_type": "stream",
          "text": [
            "1/1 [==============================] - 0s 25ms/step\n",
            "[[1.5147307e-04 7.1625122e-06 3.4401279e-03 1.9856233e-02 2.1064758e-02\n",
            "  2.1701107e-02 9.3249577e-01 1.1823518e-04 9.8525605e-04 1.7997979e-04]]\n"
          ]
        },
        {
          "data": {
            "application/vnd.google.colaboratory.intrinsic+json": {
              "type": "string"
            },
            "text/plain": [
              "'frog'"
            ]
          },
          "execution_count": 16,
          "metadata": {},
          "output_type": "execute_result"
        }
      ],
      "source": [
        "pred = cnn.predict(i)\n",
        "print(pred)\n",
        "pred = np.argmax(pred)     # softmax gives normalised value\n",
        "label_names[pred]"
      ]
    },
    {
      "cell_type": "code",
      "execution_count": null,
      "metadata": {
        "colab": {
          "background_save": true
        },
        "id": "II7lnm8Mvfjc"
      },
      "outputs": [],
      "source": []
    }
  ],
  "metadata": {
    "accelerator": "GPU",
    "colab": {
      "provenance": []
    },
    "gpuClass": "standard",
    "kernelspec": {
      "display_name": "Python 3",
      "name": "python3"
    },
    "language_info": {
      "codemirror_mode": {
        "name": "ipython",
        "version": 3
      },
      "file_extension": ".py",
      "mimetype": "text/x-python",
      "name": "python",
      "nbconvert_exporter": "python",
      "pygments_lexer": "ipython3",
      "version": "3.12.0"
    }
  },
  "nbformat": 4,
  "nbformat_minor": 0
}
